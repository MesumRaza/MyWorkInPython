{
 "cells": [
  {
   "cell_type": "code",
   "execution_count": 32,
   "metadata": {
    "collapsed": true
   },
   "outputs": [],
   "source": [
    "import numpy\n",
    "import pandas\n",
    "from sklearn import linear_model as lm\n",
    "from sklearn.metrics import mean_squared_error\n",
    "from sklearn.linear_model import RidgeCV\n",
    "from sklearn.preprocessing import StandardScaler\n",
    "import os\n",
    "from math import log, sqrt\n",
    "import pandas"
   ]
  },
  {
   "cell_type": "code",
   "execution_count": 7,
   "metadata": {},
   "outputs": [],
   "source": [
    "currentdirectory='C:/Users/Mehsam/Documents/MyWorkInPython/'"
   ]
  },
  {
   "cell_type": "code",
   "execution_count": 20,
   "metadata": {},
   "outputs": [],
   "source": [
    "dtype_dict=dtype = {'bathrooms':float, 'waterfront':int, 'sqft_above':int, 'sqft_living15':float, 'grade':int, 'yr_renovated':int, 'price':float, 'bedrooms':float, 'zipcode':str, 'long':float, 'sqft_lot15':float, 'sqft_living':float, 'floors':float, 'condition':int, 'lat':float, 'date':str, 'sqft_basement':int, 'yr_built':int, 'id':str, 'sqft_lot':int, 'view':int}\n",
    "houseprice_complete=pandas.read_csv(currentdirectory+'AnacondaProjects/Coursera_MachineLearning/kc_house_data.csv',dtype=dtype_dict)\n",
    "houseprice_train=pandas.read_csv(currentdirectory+'AnacondaProjects/Coursera_MachineLearning/Week 3 Specific Datasets/wk3_kc_house_train_data.csv',dtype=dtype_dict)\n",
    "houseprice_validation=pandas.read_csv(currentdirectory+'AnacondaProjects/Coursera_MachineLearning/Week 3 Specific Datasets/wk3_kc_house_valid_data.csv',dtype=dtype_dict)\n",
    "houseprice_validation_shuffled=pandas.read_csv(currentdirectory+'AnacondaProjects/Coursera_MachineLearning/Week 3 Specific Datasets/wk3_kc_house_train_valid_shuffled.csv',dtype=dtype_dict)\n",
    "houseprice_test=pandas.read_csv(currentdirectory+'AnacondaProjects/Coursera_MachineLearning/Week 3 Specific Datasets/wk3_kc_house_test_data.csv',dtype=dtype_dict)\n",
    "houseprice_set1=pandas.read_csv(currentdirectory+'AnacondaProjects/Coursera_MachineLearning/Week 3 Specific Datasets/wk3_kc_house_set_1_data.csv',dtype=dtype_dict )\n",
    "houseprice_set2=pandas.read_csv(currentdirectory+'AnacondaProjects/Coursera_MachineLearning/Week 3 Specific Datasets/wk3_kc_house_set_2_data.csv',dtype=dtype_dict )\n",
    "houseprice_set3=pandas.read_csv(currentdirectory+'AnacondaProjects/Coursera_MachineLearning/Week 3 Specific Datasets/wk3_kc_house_set_3_data.csv',dtype=dtype_dict )\n",
    "houseprice_set4=pandas.read_csv(currentdirectory+'AnacondaProjects/Coursera_MachineLearning/Week 3 Specific Datasets/wk3_kc_house_set_4_data.csv',dtype=dtype_dict )"
   ]
  },
  {
   "cell_type": "code",
   "execution_count": 60,
   "metadata": {},
   "outputs": [],
   "source": [
    "dataset=houseprice_test\n",
    "dataset['sqft_living_sqrt'] = dataset['sqft_living'].apply(sqrt)\n",
    "dataset['sqft_lot_sqrt'] = dataset['sqft_lot'].apply(sqrt)\n",
    "dataset['bedrooms_square'] = dataset['bedrooms']*dataset['bedrooms']\n",
    "dataset['floors_square'] = dataset['floors']*dataset['floors']"
   ]
  },
  {
   "cell_type": "code",
   "execution_count": 26,
   "metadata": {
    "collapsed": true
   },
   "outputs": [],
   "source": [
    "all_features = ['bedrooms', 'bedrooms_square',\n",
    "            'bathrooms',\n",
    "            'sqft_living', 'sqft_living_sqrt',\n",
    "            'sqft_lot', 'sqft_lot_sqrt',\n",
    "            'floors', 'floors_square',\n",
    "            'waterfront', 'view', 'condition', 'grade',\n",
    "            'sqft_above',\n",
    "            'sqft_basement',\n",
    "            'yr_built', 'yr_renovated']"
   ]
  },
  {
   "cell_type": "code",
   "execution_count": 57,
   "metadata": {},
   "outputs": [
    {
     "data": {
      "text/html": [
       "<div>\n",
       "<table border=\"1\" class=\"dataframe\">\n",
       "  <thead>\n",
       "    <tr style=\"text-align: right;\">\n",
       "      <th></th>\n",
       "      <th>Feature</th>\n",
       "      <th>Weight</th>\n",
       "    </tr>\n",
       "  </thead>\n",
       "  <tbody>\n",
       "    <tr>\n",
       "      <th>3</th>\n",
       "      <td>sqft_living</td>\n",
       "      <td>134.439314</td>\n",
       "    </tr>\n",
       "    <tr>\n",
       "      <th>10</th>\n",
       "      <td>view</td>\n",
       "      <td>24750.004586</td>\n",
       "    </tr>\n",
       "    <tr>\n",
       "      <th>12</th>\n",
       "      <td>grade</td>\n",
       "      <td>61749.103091</td>\n",
       "    </tr>\n",
       "  </tbody>\n",
       "</table>\n",
       "</div>"
      ],
      "text/plain": [
       "        Feature        Weight\n",
       "3   sqft_living    134.439314\n",
       "10         view  24750.004586\n",
       "12        grade  61749.103091"
      ]
     },
     "execution_count": 57,
     "metadata": {},
     "output_type": "execute_result"
    }
   ],
   "source": [
    "Dataset_train_features=houseprice_complete[all_features]\n",
    "Dataset_train_target=houseprice_complete['price']\n",
    "# poly15_data['price'] = Dataset['price']\n",
    "model=lm.Lasso(alpha=5e2, normalize=True)\n",
    "model.fit(Dataset_train_features,Dataset_train_target)\n",
    "table = list(zip(model.coef_, Dataset_train_features.columns.values))\n",
    "df = pandas.DataFrame(table)\n",
    "df.columns=['Weight','Feature']\n",
    "df=df[['Feature','Weight']]\n",
    "df[df['Weight']!=0]"
   ]
  },
  {
   "cell_type": "code",
   "execution_count": 138,
   "metadata": {},
   "outputs": [
    {
     "name": "stdout",
     "output_type": "stream",
     "text": [
      "l1_penalty    1.000000e+01\n",
      "RSS           4.132987e+10\n",
      "Name: 0, dtype: float64\n",
      "             Feature         Weight\n",
      "0           bedrooms  -16144.562757\n",
      "1    bedrooms_square     373.245384\n",
      "2          bathrooms   50841.243340\n",
      "3        sqft_living     617.853560\n",
      "4   sqft_living_sqrt  -44411.354867\n",
      "5           sqft_lot       0.785623\n",
      "6      sqft_lot_sqrt    -701.194765\n",
      "8      floors_square    5014.200457\n",
      "9         waterfront  619488.752486\n",
      "10              view   38041.855652\n",
      "11         condition   24998.771838\n",
      "12             grade  128716.234621\n",
      "15          yr_built   -3293.831180\n",
      "16      yr_renovated      10.057321\n",
      "Y-Intecept 6630155.66863\n",
      "Feature    15\n",
      "Weight     15\n",
      "dtype: int64\n",
      "128425315837.0\n"
     ]
    }
   ],
   "source": [
    "rss_list=[]\n",
    "for l1_penalty in numpy.logspace(1, 7, num=13):\n",
    "    model1 = lm.Lasso(alpha=l1_penalty, normalize=True)\n",
    "    # Trained Dataset on Training Data\n",
    "    model1.fit(houseprice_train[all_features],houseprice_train['price'])\n",
    "    # Calculating RSS on Validation Dataset\n",
    "    rss_list.append([l1_penalty,str(mean_squared_error(houseprice_validation['price'], model1.predict(X=houseprice_validation[all_features])))])\n",
    "rss_df = pandas.DataFrame(rss_list)\n",
    "rss_df.columns=['l1_penalty','RSS','NonZeroFeatures']\n",
    "rss_df['RSS']=pandas.to_numeric(rss_df['RSS'])\n",
    "# Picking Alpha Value that gives minimum RSS on Validation Set\n",
    "print (rss_df.ix[rss_df['RSS'].idxmin()])\n",
    "# Training Model with Alpha with Lowest RSS on Validation Set\n",
    "model2 = lm.Lasso(alpha=rss_df.ix[rss_df['RSS'].idxmin()][0], normalize=True)\n",
    "model2.fit(houseprice_train[all_features],houseprice_train['price'])\n",
    "# Trained Dataset on Training Data\n",
    "table = list(zip(model2.coef_, houseprice_test[all_features].columns.values))\n",
    "# print (table)\n",
    "df = pandas.DataFrame(table)\n",
    "df.columns=['Weight','Feature']\n",
    "df=df[['Feature','Weight']]\n",
    "# df.add(pandas.DataFrame([\"\",model2.intercept_]))\n",
    "print df[df['Weight']!=0]\n",
    "print 'Y-Intecept '+str(model2.intercept_)\n",
    "print df[df['Weight']!=0].count()+  1 if str(model2.intercept_)!=0 else 0\n",
    "print (mean_squared_error(houseprice_test['price'], model1.predict(X=houseprice_test[all_features])))"
   ]
  },
  {
   "cell_type": "code",
   "execution_count": 139,
   "metadata": {
    "collapsed": true
   },
   "outputs": [],
   "source": [
    "max_nonzeros=7"
   ]
  },
  {
   "cell_type": "code",
   "execution_count": 193,
   "metadata": {},
   "outputs": [
    {
     "name": "stdout",
     "output_type": "stream",
     "text": [
      "l1_penalty_min 127.42749857\n",
      "l1_penalty_max 263.665089873\n"
     ]
    }
   ],
   "source": [
    "rss_list2=[]\n",
    "for l1_penalty in numpy.logspace(1, 4, num=20):\n",
    "    model3 = lm.Lasso(alpha=l1_penalty, normalize=True)\n",
    "    # Trained Dataset on Training Data\n",
    "    model3.fit(houseprice_train[all_features],houseprice_train['price'])\n",
    "    # Calculating RSS on Validation Dataset\n",
    "    rss_list2.append([l1_penalty,str(mean_squared_error(houseprice_validation['price'], model1.predict(X=houseprice_validation[all_features]))),numpy.count_nonzero(model3.coef_)+numpy.count_nonzero(model3.intercept_)])\n",
    "    rss_df2 = pandas.DataFrame(rss_list2)\n",
    "    rss_df2.columns=['l1_penalty','RSS','NonZeroFeatures']\n",
    "    rss_df2['RSS']=pandas.to_numeric(rss_df2['RSS'])\n",
    "# rss_df2[rss_df2['NonZeroFeatures']>max_nonzeros]['NonZeroFeatures'].count()\n",
    "l1_penalty_min=rss_df2[rss_df2['NonZeroFeatures']>max_nonzeros]['l1_penalty'].max()\n",
    "l1_penalty_max=rss_df2[rss_df2['NonZeroFeatures']<max_nonzeros]['l1_penalty'].min()\n",
    "print ('l1_penalty_min '+str(rss_df2[rss_df2['NonZeroFeatures']>max_nonzeros]['l1_penalty'].max()))\n",
    "print ('l1_penalty_max '+str(rss_df2[rss_df2['NonZeroFeatures']<max_nonzeros]['l1_penalty'].min()))"
   ]
  },
  {
   "cell_type": "code",
   "execution_count": 203,
   "metadata": {},
   "outputs": [
    {
     "data": {
      "text/html": [
       "<div>\n",
       "<table border=\"1\" class=\"dataframe\">\n",
       "  <thead>\n",
       "    <tr style=\"text-align: right;\">\n",
       "      <th></th>\n",
       "      <th>l1_penalty</th>\n",
       "      <th>RSS</th>\n",
       "      <th>NonZeroFeatures</th>\n",
       "    </tr>\n",
       "  </thead>\n",
       "  <tbody>\n",
       "    <tr>\n",
       "      <th>0</th>\n",
       "      <td>156.109097</td>\n",
       "      <td>4.567072e+10</td>\n",
       "      <td>7</td>\n",
       "    </tr>\n",
       "    <tr>\n",
       "      <th>1</th>\n",
       "      <td>163.279496</td>\n",
       "      <td>4.574753e+10</td>\n",
       "      <td>7</td>\n",
       "    </tr>\n",
       "    <tr>\n",
       "      <th>2</th>\n",
       "      <td>170.449896</td>\n",
       "      <td>4.582944e+10</td>\n",
       "      <td>7</td>\n",
       "    </tr>\n",
       "    <tr>\n",
       "      <th>3</th>\n",
       "      <td>177.620295</td>\n",
       "      <td>4.591660e+10</td>\n",
       "      <td>7</td>\n",
       "    </tr>\n",
       "    <tr>\n",
       "      <th>4</th>\n",
       "      <td>184.790695</td>\n",
       "      <td>4.600900e+10</td>\n",
       "      <td>7</td>\n",
       "    </tr>\n",
       "    <tr>\n",
       "      <th>5</th>\n",
       "      <td>191.961094</td>\n",
       "      <td>4.610688e+10</td>\n",
       "      <td>7</td>\n",
       "    </tr>\n",
       "    <tr>\n",
       "      <th>6</th>\n",
       "      <td>199.131494</td>\n",
       "      <td>4.620973e+10</td>\n",
       "      <td>7</td>\n",
       "    </tr>\n",
       "  </tbody>\n",
       "</table>\n",
       "</div>"
      ],
      "text/plain": [
       "   l1_penalty           RSS  NonZeroFeatures\n",
       "0  156.109097  4.567072e+10                7\n",
       "1  163.279496  4.574753e+10                7\n",
       "2  170.449896  4.582944e+10                7\n",
       "3  177.620295  4.591660e+10                7\n",
       "4  184.790695  4.600900e+10                7\n",
       "5  191.961094  4.610688e+10                7\n",
       "6  199.131494  4.620973e+10                7"
      ]
     },
     "execution_count": 203,
     "metadata": {},
     "output_type": "execute_result"
    }
   ],
   "source": [
    "Penaltylist_7features=[]\n",
    "for l1_penalty in numpy.linspace(l1_penalty_min,l1_penalty_max,20):\n",
    "    model4 = lm.Lasso(l1_penalty, normalize=True) # set parameters\n",
    "    model4.fit(houseprice_train[all_features], houseprice_train['price']) # learn weights\n",
    "    RSS = mean_squared_error(houseprice_validation['price'], model4.predict(X=houseprice_validation[all_features]))\n",
    "#     print (numpy.count_nonzero(model4.coef_))\n",
    "    NonZeroCount= numpy.count_nonzero(model4.coef_) + 1 if model4.intercept_!=0 else 0\n",
    "#     print numpy.count_nonzero(model4.coef_) + 1 if model4.intercept_!=0 else 0\n",
    "    if NonZeroCount==7:\n",
    "        Penaltylist_7features.append((l1_penalty,RSS,NonZeroCount))\n",
    "Penaltylist_7features = pandas.DataFrame(Penaltylist_7features)\n",
    "Penaltylist_7features.columns=['l1_penalty','RSS','NonZeroFeatures']\n",
    "Penaltylist_7features"
   ]
  },
  {
   "cell_type": "code",
   "execution_count": 204,
   "metadata": {},
   "outputs": [
    {
     "data": {
      "text/plain": [
       "bedrooms                -0.000000\n",
       "bedrooms_square         -0.000000\n",
       "bathrooms            10610.890284\n",
       "sqft_living            163.380252\n",
       "sqft_living_sqrt         0.000000\n",
       "sqft_lot                -0.000000\n",
       "sqft_lot_sqrt           -0.000000\n",
       "floors                   0.000000\n",
       "floors_square            0.000000\n",
       "waterfront          506451.687115\n",
       "view                 41960.043555\n",
       "condition                0.000000\n",
       "grade               116253.553700\n",
       "sqft_above               0.000000\n",
       "sqft_basement            0.000000\n",
       "yr_built             -2612.234880\n",
       "yr_renovated             0.000000\n",
       "dtype: float64"
      ]
     },
     "execution_count": 204,
     "metadata": {},
     "output_type": "execute_result"
    }
   ],
   "source": [
    "# Getting Coefficients with Best Alpha of 7 Features with minimum RSS\n",
    "best_alpha_7=Penaltylist_7features.ix[Penaltylist_7features['RSS'].idxmin()]['l1_penalty']\n",
    "model5 = lm.Lasso(alpha=best_alpha_7, normalize=True) # set parameters\n",
    "model5.fit(houseprice_train[all_features], houseprice_train['price']) # learn weights\n",
    "pandas.Series(model5.coef_, index = all_features)"
   ]
  },
  {
   "cell_type": "code",
   "execution_count": 52,
   "metadata": {
    "collapsed": true
   },
   "outputs": [],
   "source": [
    "def get_rss(input_features_train,input_target_train,output_features_test,output_target_test,method):\n",
    "    if method==1:\n",
    "        linear_model=lm.LinearRegression()\n",
    "        linear_model.fit(X=input_features_train,y=input_target_train)\n",
    "        return_variable= str(mean_squared_error(output_target_test, linear_model.predict(X=output_features_test)))\n",
    "    elif method==2:\n",
    "        regr_cv = RidgeCV(alphas=numpy.arange(-1000, 1000, 0.1))\n",
    "        scaler = StandardScaler()\n",
    "        input_features_train_std = scaler.fit_transform(input_features_train)\n",
    "        model_cv = regr_cv.fit(input_features_train_std, input_target_train)\n",
    "        return_variable= [str(mean_squared_error(output_target_test, model_cv.predict(X=output_features_test))),model_cv.alpha_]\n",
    "    elif method==3:\n",
    "        regr_cv = Lasso(alphas=numpy.arange(-1000, 1000, 0.1))\n",
    "        scaler = StandardScaler()\n",
    "        input_features_train_std = scaler.fit_transform(input_features_train)\n",
    "        model_cv = regr_cv.fit(input_features_train_std, input_target_train)\n",
    "        return_variable= [str(mean_squared_error(output_target_test, model_cv.predict(X=output_features_test))),model_cv.alpha_]\n",
    "        \n",
    "        return return_variable"
   ]
  },
  {
   "cell_type": "code",
   "execution_count": 106,
   "metadata": {},
   "outputs": [
    {
     "data": {
      "text/plain": [
       "[<matplotlib.lines.Line2D at 0x11a3db00>,\n",
       " <matplotlib.lines.Line2D at 0x11a3dc88>]"
      ]
     },
     "execution_count": 106,
     "metadata": {},
     "output_type": "execute_result"
    },
    {
     "data": {
      "image/png": "[encoded data removed]",
      "text/plain": [
       "<matplotlib.figure.Figure at 0x119f2128>"
      ]
     },
     "metadata": {},
     "output_type": "display_data"
    }
   ],
   "source": [
    "plt.plot(poly1_data['power_1'],poly1_data['price'],'.',\n",
    "        poly1_data['power_1'], linear_model.predict(poly1_data[input_variable]),'-.')"
   ]
  },
  {
   "cell_type": "code",
   "execution_count": 113,
   "metadata": {},
   "outputs": [
    {
     "data": {
      "text/plain": [
       "'79626670612.1'"
      ]
     },
     "execution_count": 113,
     "metadata": {},
     "output_type": "execute_result"
    }
   ],
   "source": [
    "input_var_test=\n",
    "output_var_test=\n",
    "str(mean_squared_error(output_var_test, linear_model.predict(X=input_var_test)))"
   ]
  }
 ],
 "metadata": {
  "anaconda-cloud": {},
  "kernelspec": {
   "display_name": "Python 2",
   "language": "python",
   "name": "python2"
  },
  "language_info": {
   "codemirror_mode": {
    "name": "ipython",
    "version": 2
   },
   "file_extension": ".py",
   "mimetype": "text/x-python",
   "name": "python",
   "nbconvert_exporter": "python",
   "pygments_lexer": "ipython2",
   "version": "2.7.13"
  }
 },
 "nbformat": 4,
 "nbformat_minor": 1
}
