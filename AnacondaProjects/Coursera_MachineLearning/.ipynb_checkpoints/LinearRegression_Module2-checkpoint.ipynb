{
 "cells": [
  {
   "cell_type": "code",
   "execution_count": 24,
   "metadata": {
    "collapsed": true
   },
   "outputs": [],
   "source": [
    "import numpy\n",
    "import pandas\n",
    "from sklearn import linear_model as lm\n",
    "from sklearn.metrics import mean_squared_error"
   ]
  },
  {
   "cell_type": "code",
   "execution_count": 25,
   "metadata": {
    "collapsed": true
   },
   "outputs": [],
   "source": [
    "houseprice_complete=pandas.read_csv('C:/Users/mhemani/AnacondaProjects/Coursera_MachineLearning/kc_house_data.csv',dtype = {'bathrooms':float, 'waterfront':int, 'sqft_above':int, 'sqft_living15':float, 'grade':int, 'yr_renovated':int, 'price':float, 'bedrooms':float, 'zipcode':str, 'long':float, 'sqft_lot15':float, 'sqft_living':float, 'floors':str, 'condition':int, 'lat':float, 'date':str, 'sqft_basement':int, 'yr_built':int, 'id':str, 'sqft_lot':int, 'view':int})\n",
    "houseprice_train=pandas.read_csv('C:/Users/mhemani/AnacondaProjects/Coursera_MachineLearning/kc_house_train_data.csv',dtype = {'bathrooms':float, 'waterfront':int, 'sqft_above':int, 'sqft_living15':float, 'grade':int, 'yr_renovated':int, 'price':float, 'bedrooms':float, 'zipcode':str, 'long':float, 'sqft_lot15':float, 'sqft_living':float, 'floors':str, 'condition':int, 'lat':float, 'date':str, 'sqft_basement':int, 'yr_built':int, 'id':str, 'sqft_lot':int, 'view':int})\n",
    "houseprice_test=pandas.read_csv('C:/Users/mhemani/AnacondaProjects/Coursera_MachineLearning/kc_house_test_data.csv',dtype = {'bathrooms':float, 'waterfront':int, 'sqft_above':int, 'sqft_living15':float, 'grade':int, 'yr_renovated':int, 'price':float, 'bedrooms':float, 'zipcode':str, 'long':float, 'sqft_lot15':float, 'sqft_living':float, 'floors':str, 'condition':int, 'lat':float, 'date':str, 'sqft_basement':int, 'yr_built':int, 'id':str, 'sqft_lot':int, 'view':int})"
   ]
  },
  {
   "cell_type": "code",
   "execution_count": 66,
   "metadata": {
    "collapsed": true
   },
   "outputs": [],
   "source": [
    "houseprice_complete['bedrooms_squared']=houseprice_complete['bedrooms']*houseprice_complete['bedrooms']\n",
    "houseprice_complete['bed_bath_rooms']=houseprice_complete['bedrooms']*houseprice_complete['bathrooms']\n",
    "houseprice_complete['log_sqft_living']=numpy.log(houseprice_complete['sqft_living'])\n",
    "houseprice_complete['lat_plus_long']=houseprice_complete['lat']+houseprice_complete['long']\n",
    "houseprice_train['bedrooms_squared']=houseprice_train['bedrooms']*houseprice_train['bedrooms']\n",
    "houseprice_train['bed_bath_rooms']=houseprice_train['bedrooms']*houseprice_train['bathrooms']\n",
    "houseprice_train['log_sqft_living']=numpy.log(houseprice_train['sqft_living'])\n",
    "houseprice_train['lat_plus_long']=houseprice_train['lat']+houseprice_train['long']\n",
    "houseprice_test['bedrooms_squared']=houseprice_test['bedrooms']*houseprice_test['bedrooms']\n",
    "houseprice_test['bed_bath_rooms']=houseprice_test['bedrooms']*houseprice_test['bathrooms']\n",
    "houseprice_test['log_sqft_living']=numpy.log(houseprice_test['sqft_living'])\n",
    "houseprice_test['lat_plus_long']=houseprice_test['lat']+houseprice_test['long']"
   ]
  },
  {
   "cell_type": "code",
   "execution_count": 71,
   "metadata": {
    "collapsed": false
   },
   "outputs": [
    {
     "data": {
      "text/plain": [
       "bed_bath_rooms       7.503902\n",
       "bedrooms_squared    12.446678\n",
       "log_sqft_living      7.550275\n",
       "lat_plus_long      -74.653334\n",
       "Name: mean, dtype: float64"
      ]
     },
     "execution_count": 71,
     "metadata": {},
     "output_type": "execute_result"
    }
   ],
   "source": [
    "new_columns=['bed_bath_rooms','bedrooms_squared','log_sqft_living','lat_plus_long']\n",
    "houseprice_test[new_columns].describe().iloc[1]"
   ]
  },
  {
   "cell_type": "code",
   "execution_count": 75,
   "metadata": {
    "collapsed": true
   },
   "outputs": [],
   "source": [
    "model_1=['bedrooms', 'bathrooms', 'lat', 'long']\n",
    "model_2=['bedrooms', 'bathrooms', 'lat','long', 'bed_bath_rooms']\n",
    "model_3=['bedrooms', 'bathrooms', 'lat','long', 'bed_bath_rooms', 'bedrooms_squared', 'log_sqft_living','lat_plus_long']\n",
    "Target=['price']\n",
    "def model_cofficient(input_var,output_var):\n",
    "     linear_model.fit(X=input_var,y=output_var)\n",
    "     return [linear_model.coef_,linear_model.intercept_]"
   ]
  },
  {
   "cell_type": "code",
   "execution_count": 111,
   "metadata": {
    "collapsed": true
   },
   "outputs": [],
   "source": [
    "variable=model_1\n",
    "data_type=houseprice_train\n",
    "input_var = data_type[variable]\n",
    "# .values.reshape(len(data_type[variable]),1)\n",
    "output_var = data_type[Target]"
   ]
  },
  {
   "cell_type": "code",
   "execution_count": 112,
   "metadata": {
    "collapsed": false
   },
   "outputs": [
    {
     "data": {
      "text/plain": [
       "[(24904.871517079857, 'bedrooms'),\n",
       " (237696.11320955068, 'bathrooms'),\n",
       " (770370.55229653034, 'lat'),\n",
       " (-153182.16742899723, 'long')]"
      ]
     },
     "execution_count": 112,
     "metadata": {},
     "output_type": "execute_result"
    }
   ],
   "source": [
    "linear_model=lm.LinearRegression()\n",
    "linear_model.fit(X=input_var,y=output_var)\n",
    "model_cofficient(input_var,output_var)\n",
    "list(zip(model_cofficient(input_var,output_var)[0][0], model_1))"
   ]
  },
  {
   "cell_type": "code",
   "execution_count": 113,
   "metadata": {
    "collapsed": false
   },
   "outputs": [
    {
     "data": {
      "text/plain": [
       "'79626670612.1'"
      ]
     },
     "execution_count": 113,
     "metadata": {},
     "output_type": "execute_result"
    }
   ],
   "source": [
    "data_type_test=houseprice_test\n",
    "input_var_test = data_type_test[variable]\n",
    "output_var_test = data_type_test[Target]\n",
    "str(mean_squared_error(output_var_test, linear_model.predict(X=input_var_test)))"
   ]
  }
 ],
 "metadata": {
  "anaconda-cloud": {},
  "kernelspec": {
   "display_name": "Python 2",
   "language": "python",
   "name": "python2"
  },
  "language_info": {
   "codemirror_mode": {
    "name": "ipython",
    "version": 2
   },
   "file_extension": ".py",
   "mimetype": "text/x-python",
   "name": "python",
   "nbconvert_exporter": "python",
   "pygments_lexer": "ipython2",
   "version": "2.7.11"
  }
 },
 "nbformat": 4,
 "nbformat_minor": 1
}
