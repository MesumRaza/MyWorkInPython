{
 "cells": [
  {
   "cell_type": "code",
   "execution_count": 2,
   "metadata": {
    "collapsed": true
   },
   "outputs": [],
   "source": [
    "from pytrends.request import TrendReq\n",
    "import datetime"
   ]
  },
  {
   "cell_type": "code",
   "execution_count": 15,
   "metadata": {},
   "outputs": [
    {
     "name": "stdout",
     "output_type": "stream",
     "text": [
      "['Algorithm Design', 'Web Architecture', 'Web Development Framework', 'Corporate Law', 'Corporate Governance', 'Middleware Software', 'Integration Software', 'Mobile Development', 'Network Security', 'Information Security', 'Statistical Analysis', 'Data Mining', 'SEO/SEM Marketing', 'HR Benefits and Compensation', 'User Interface Design', 'Software QA', 'User Testing', 'Storage Systems', 'Storage Management', 'Business Development', 'Relationship Management', 'Java Development', 'Software Revision', 'Version Control Systems', 'Data Engineering', 'Data Warehousing', 'Automotive Services', 'Automotive Parts', 'Automotive Design', 'Business Intelligence', 'Mac', 'Linux', 'Unix', 'Cloud Computing', 'Distributed Computing', 'Public Policy', 'International Relations', 'Virtualization', 'Social Media Marketing', 'Marketing Campaign Management', 'Compliance Law', 'Employment Law', 'Electronic Engineering', 'Electrical Engineering', 'Channel Marketing', 'Database Management', 'Database Software', 'Retail Store Operations', 'Data Presentation', 'PR and Communications', 'Economics', 'Recruiting', 'Software Modeling', 'Software Process Design', 'Foreign Language Translation', 'Perl', 'Python', 'Ruby', 'Mining', 'Commodities', 'Renewable and Sustainable Energy']\n"
     ]
    }
   ],
   "source": [
    "# Login to Google. Only need to run this once, the rest of requests will use the same session.\n",
    "pytrend = TrendReq(google_username='mes.javacca',google_password='fatal1ty110')\n",
    "search=['Algorithm Design','Web Architecture','Web Development Framework','Corporate Law','Corporate Governance','Middleware Software','Integration Software','Mobile Development','Network Security', 'Information Security','Statistical Analysis','Data Mining','SEO/SEM Marketing','HR Benefits and Compensation','User Interface Design','Software QA','User Testing','Storage Systems','Storage Management','Business Development','Relationship Management','Java Development','Software Revision','Version Control Systems','Data Engineering','Data Warehousing','Automotive Services','Automotive Parts','Automotive Design','Business Intelligence','Mac','Linux','Unix','Cloud Computing','Distributed Computing','Public Policy','International Relations','Virtualization','Social Media Marketing','Marketing Campaign Management','Compliance Law','Employment Law','Electronic Engineering','Electrical Engineering','Channel Marketing','Database Management','Database Software','Retail Store Operations','Data Presentation','PR and Communications','Economics','Recruiting','Software Modeling','Software Process Design','Foreign Language Translation','Perl','Python','Ruby','Mining','Commodities','Renewable and Sustainable Energy']\n",
    "print (search)"
   ]
  },
  {
   "cell_type": "code",
   "execution_count": null,
   "metadata": {},
   "outputs": [],
   "source": [
    "# Create payload and capture API tokens. Only needed for interest_over_time(), interest_by_region() & related_queries()\n",
    "trends=[]\n",
    "for i in search:\n",
    "    try:\n",
    "        pytrend.build_payload(kw_list=[i])\n",
    "# Interest Over Time\n",
    "        trends.append(pytrend.interest_over_time().reset_index())   \n",
    "    except:\n",
    "        continue"
   ]
  },
  {
   "cell_type": "code",
   "execution_count": null,
   "metadata": {},
   "outputs": [],
   "source": [
    "trends[0]"
   ]
  },
  {
   "cell_type": "code",
   "execution_count": null,
   "metadata": {},
   "outputs": [],
   "source": [
    "from functools import reduce\n",
    "import pandas\n",
    "Alltrend = reduce(lambda df1,df2: pandas.merge(df1,df2,how='outer',on='date'),trends)\n",
    "Alltrend=pandas.melt(Alltrend, id_vars=['date'], value_vars=search)\n",
    "Alltrend.columns=['Date','Search Keyword','Hits']\n",
    "Alltrend"
   ]
  },
  {
   "cell_type": "code",
   "execution_count": 34,
   "metadata": {
    "collapsed": true
   },
   "outputs": [],
   "source": [
    "Alltrend.to_excel('LinkedIN_Skills_GoogleTrends.xlsx')"
   ]
  },
  {
   "cell_type": "code",
   "execution_count": null,
   "metadata": {
    "collapsed": true
   },
   "outputs": [],
   "source": []
  }
 ],
 "metadata": {
  "anaconda-cloud": {},
  "kernelspec": {
   "display_name": "Python [conda root]",
   "language": "python",
   "name": "conda-root-py"
  },
  "language_info": {
   "codemirror_mode": {
    "name": "ipython",
    "version": 3
   },
   "file_extension": ".py",
   "mimetype": "text/x-python",
   "name": "python",
   "nbconvert_exporter": "python",
   "pygments_lexer": "ipython3",
   "version": "3.5.2"
  }
 },
 "nbformat": 4,
 "nbformat_minor": 1
}
