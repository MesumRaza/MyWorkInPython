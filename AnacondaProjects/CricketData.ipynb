{
 "cells": [
  {
   "cell_type": "code",
   "execution_count": 1,
   "metadata": {
    "collapsed": true
   },
   "outputs": [],
   "source": [
    "import pandas as pd\n",
    "import glob\n",
    "import os\n",
    "import random"
   ]
  },
  {
   "cell_type": "code",
   "execution_count": 123,
   "metadata": {
    "scrolled": true
   },
   "outputs": [
    {
     "data": {
      "text/html": [
       "<div>\n",
       "<table border=\"1\" class=\"dataframe\">\n",
       "  <thead>\n",
       "    <tr style=\"text-align: right;\">\n",
       "      <th>Indicator</th>\n",
       "      <th>team</th>\n",
       "      <th>team1</th>\n",
       "      <th>gender</th>\n",
       "      <th>season</th>\n",
       "      <th>date</th>\n",
       "      <th>venue</th>\n",
       "      <th>city</th>\n",
       "      <th>toss_winner</th>\n",
       "      <th>toss_decision</th>\n",
       "      <th>player_of_match</th>\n",
       "      <th>umpire</th>\n",
       "      <th>umpire1</th>\n",
       "      <th>tv_umpire</th>\n",
       "      <th>match_referee</th>\n",
       "      <th>winner</th>\n",
       "      <th>winner_runs</th>\n",
       "    </tr>\n",
       "  </thead>\n",
       "  <tbody>\n",
       "    <tr>\n",
       "      <th>Detail</th>\n",
       "      <td>New Zealand</td>\n",
       "      <td>Australia</td>\n",
       "      <td>male</td>\n",
       "      <td>2004/05</td>\n",
       "      <td>2005/02/17</td>\n",
       "      <td>Eden Park</td>\n",
       "      <td>Auckland</td>\n",
       "      <td>Australia</td>\n",
       "      <td>bat</td>\n",
       "      <td>RT Ponting</td>\n",
       "      <td>BF Bowden</td>\n",
       "      <td>AL Hill</td>\n",
       "      <td>DB Cowie</td>\n",
       "      <td>CH Lloyd</td>\n",
       "      <td>Australia</td>\n",
       "      <td>44</td>\n",
       "    </tr>\n",
       "  </tbody>\n",
       "</table>\n",
       "</div>"
      ],
      "text/plain": [
       "Indicator         team      team1 gender   season        date      venue  \\\n",
       "Detail     New Zealand  Australia   male  2004/05  2005/02/17  Eden Park   \n",
       "\n",
       "Indicator      city toss_winner toss_decision player_of_match     umpire  \\\n",
       "Detail     Auckland   Australia           bat      RT Ponting  BF Bowden   \n",
       "\n",
       "Indicator  umpire1 tv_umpire match_referee     winner winner_runs  \n",
       "Detail     AL Hill  DB Cowie      CH Lloyd  Australia          44  "
      ]
     },
     "execution_count": 123,
     "metadata": {},
     "output_type": "execute_result"
    }
   ],
   "source": [
    "file='211048'\n",
    "\n",
    "df=pd.read_csv('C:/Users/mhemani/AnacondaProjects/all_csv/'+file+'.csv',sep = '\\t' ,header=None,names = [\"File\"])\n",
    "Stats_csv=pd.DataFrame([ x.split(',') for x in df[\"File\"].tolist()])\n",
    "# Stats_csv.drop(['0','3','4','5','6','7','8','9','10'],axis=1)\n",
    "headerlist=['Type','Indicator','Detail']\n",
    "headerlist.extend(list(range(3,len(Stats_csv.columns))))\n",
    "Stats_csv.columns=[headerlist]\n",
    "Stats_csv\n",
    "Stats_csv[1:]\n",
    "Stats_csv=Stats_csv[Stats_csv['Type']=='info']\n",
    "Stats_csv.filter(['Type','Indicator','Detail'], axis=1)\n",
    "\n",
    "Stats_csv_T=Stats_csv.T[1:]\n",
    "Stats_csv_T[:2]\n",
    "Stats_csv_T.columns=Stats_csv_T.iloc[0]\n",
    "cols=pd.Series(Stats_csv_T.columns)\n",
    "for dup in Stats_csv_T.columns.get_duplicates(): cols[Stats_csv_T.columns.get_loc(dup)]=[dup+str(d_idx) if d_idx!=0 else dup for d_idx in range(Stats_csv_T.columns.get_loc(dup).sum())]\n",
    "Stats_csv_T.columns=cols\n",
    "Stats_csv_T[1:][:1]"
   ]
  },
  {
   "cell_type": "code",
   "execution_count": null,
   "metadata": {},
   "outputs": [
    {
     "name": "stderr",
     "output_type": "stream",
     "text": [
      "C:\\Program Files\\Anaconda3\\lib\\site-packages\\ipykernel\\__main__.py:24: SettingWithCopyWarning: \n",
      "A value is trying to be set on a copy of a slice from a DataFrame.\n",
      "Try using .loc[row_indexer,col_indexer] = value instead\n",
      "\n",
      "See the caveats in the documentation: http://pandas.pydata.org/pandas-docs/stable/indexing.html#indexing-view-versus-copy\n",
      "C:\\Program Files\\Anaconda3\\lib\\site-packages\\ipykernel\\__main__.py:25: SettingWithCopyWarning: \n",
      "A value is trying to be set on a copy of a slice from a DataFrame.\n",
      "Try using .loc[row_indexer,col_indexer] = value instead\n",
      "\n",
      "See the caveats in the documentation: http://pandas.pydata.org/pandas-docs/stable/indexing.html#indexing-view-versus-copy\n"
     ]
    }
   ],
   "source": [
    "Matchlist=[]\n",
    "Balllist=[]\n",
    "files=[os.path.basename(x) for x in glob.glob('all_csv/*.csv')]\n",
    "\n",
    "for idx,i in enumerate(files):\n",
    "    \n",
    "    df=pd.read_csv('C:/Users/mhemani/AnacondaProjects/all_csv/'+i,sep = '\\t' ,header=None,names = [\"File\"])\n",
    "    \n",
    "    matchid=idx+1\n",
    "    Match_csv=pd.DataFrame([ x.split(',') for x in df[\"File\"].tolist()])\n",
    "    # Stats_csv.drop(['0','3','4','5','6','7','8','9','10'],axis=1)\n",
    "    Match_headerlist=['Type','Indicator','Detail']\n",
    "    Match_headerlist.extend(list(range(3,len(Match_csv.columns))))\n",
    "    Match_csv.columns=[Match_headerlist]\n",
    "    Match_csv[1:]\n",
    "    Match_csv=Match_csv[Match_csv['Type']=='info']\n",
    "    Match_csv.filter(['Type','Indicator','Detail'], axis=1)\n",
    "    Match_csv_T=Match_csv.T[1:]\n",
    "    x=Match_csv_T[:2]\n",
    "    x.columns=x.iloc[0]\n",
    "    cols=pd.Series(x.columns)\n",
    "    for dup in x.columns.get_duplicates(): cols[x.columns.get_loc(dup)]=[dup+str(d_idx) if d_idx!=0 else dup for d_idx in range(x.columns.get_loc(dup).sum())]\n",
    "    x.columns=cols\n",
    "    x['matchid']=matchid\n",
    "    x['file']=i\n",
    "    x=x[1:]\n",
    "    Matchlist.append(x)\n",
    "    \n",
    "    Ball_csv=pd.DataFrame([ x.split(',') for x in df[\"File\"].tolist()])\n",
    "    # Stats_csv.drop(['0','3','4','5','6','7','8','9','10'],axis=1)\n",
    "    if len(Ball_csv.columns)==13: Ballheaderlist=['Type','Innings','over.ball','battingteam','batsman','non-striker','bowler','batsman_run','extras','fielder1','fielder2','out_type','out_by']\n",
    "    else: Ballheaderlist=['Type','Innings','over.ball','battingteam','batsman','non-striker','bowler','batsman_run','extras','out_type','out_by']\n",
    "    Ball_csv.columns=[Ballheaderlist]\n",
    "    Ball_csv=Ball_csv[1:]\n",
    "    Ball_csv=Ball_csv[Ball_csv['Type']=='ball']\n",
    "#     Ball_csv=Ball_csv.reset_index()\n",
    "#     Ball_csv['ball_id']=Ball_csv.index+1\n",
    "    Ball_csv['matchid']=matchid\n",
    "    Balllist.append(Ball_csv)\n",
    "    "
   ]
  },
  {
   "cell_type": "code",
   "execution_count": null,
   "metadata": {
    "collapsed": true
   },
   "outputs": [],
   "source": [
    "MatchDetail=pd.concat(Matchlist, ignore_index=True)\n",
    "MatchDetail"
   ]
  },
  {
   "cell_type": "code",
   "execution_count": null,
   "metadata": {
    "collapsed": true
   },
   "outputs": [],
   "source": [
    "BallDetail=pd.concat(Balllist, ignore_index=True)\n",
    "BallDetail"
   ]
  },
  {
   "cell_type": "code",
   "execution_count": null,
   "metadata": {
    "collapsed": true
   },
   "outputs": [],
   "source": [
    "Match_Complete=pd.merge(BallDetail, MatchDetail, on='matchid')\n",
    "Match_Complete"
   ]
  },
  {
   "cell_type": "code",
   "execution_count": null,
   "metadata": {
    "collapsed": true
   },
   "outputs": [],
   "source": [
    "Match_Complete.to_csv(\"Match_Complete.csv\")"
   ]
  },
  {
   "cell_type": "code",
   "execution_count": null,
   "metadata": {
    "collapsed": true
   },
   "outputs": [],
   "source": []
  }
 ],
 "metadata": {
  "anaconda-cloud": {},
  "kernelspec": {
   "display_name": "Python 3",
   "language": "python",
   "name": "python3"
  },
  "language_info": {
   "codemirror_mode": {
    "name": "ipython",
    "version": 3
   },
   "file_extension": ".py",
   "mimetype": "text/x-python",
   "name": "python",
   "nbconvert_exporter": "python",
   "pygments_lexer": "ipython3",
   "version": "3.6.3"
  }
 },
 "nbformat": 4,
 "nbformat_minor": 1
}
